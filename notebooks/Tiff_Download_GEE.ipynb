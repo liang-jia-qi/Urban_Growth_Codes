{
 "cells": [
  {
   "cell_type": "code",
   "execution_count": 1,
   "id": "a0c34e75-a74d-4a5b-8655-6196104865bc",
   "metadata": {},
   "outputs": [],
   "source": [
    "import ee\n",
    "ee.Authenticate()  # Run this in command line or Jupyter notebook\n",
    "ee.Initialize()"
   ]
  },
  {
   "cell_type": "code",
   "execution_count": 2,
   "id": "86b22278-36dc-4918-832a-5a7bf3b804a9",
   "metadata": {},
   "outputs": [],
   "source": [
    "import ee\n",
    "import geojson\n",
    "import geopandas as gpd\n",
    "from shapely.geometry import Polygon\n",
    "import os"
   ]
  },
  {
   "cell_type": "code",
   "execution_count": 4,
   "id": "ace3bd40-d1f2-4b87-a9b2-f6072ed502ab",
   "metadata": {},
   "outputs": [],
   "source": [
    "import ee\n",
    "\n",
    "# Initialize the Earth Engine API\n",
    "ee.Initialize()\n",
    "\n",
    "def export_tif_to_drive(city_name, center_lat, center_lng, half_side_km=20, scale=10):\n",
    "    \"\"\"\n",
    "    Export Open Buildings data for a given city and two time ranges (2016-2017 and 2023-2024).\n",
    "    \n",
    "    Parameters:\n",
    "        city_name (str): Name of the city.\n",
    "        center_lat (float): Latitude of the city center.\n",
    "        center_lng (float): Longitude of the city center.\n",
    "        half_side_km (float, optional): Half of the side length of the square in km. Default is 20.\n",
    "        scale (int, optional): Export resolution in meters. Default is 10.\n",
    "    \"\"\"\n",
    "    # Convert km to degrees (approximate)\n",
    "    half_side_deg = half_side_km / 111.32\n",
    "\n",
    "    # Calculate coordinates of the square's corners\n",
    "    coords = [\n",
    "        [center_lng - half_side_deg, center_lat - half_side_deg],  # Bottom-left\n",
    "        [center_lng + half_side_deg, center_lat - half_side_deg],  # Bottom-right\n",
    "        [center_lng + half_side_deg, center_lat + half_side_deg],  # Top-right\n",
    "        [center_lng - half_side_deg, center_lat + half_side_deg],  # Top-left\n",
    "        [center_lng - half_side_deg, center_lat - half_side_deg]   # Closing the polygon\n",
    "    ]\n",
    "\n",
    "    region = ee.Geometry.Polygon([coords])\n",
    "\n",
    "    # Get Open Buildings dataset\n",
    "    buildings = ee.ImageCollection(\"GOOGLE/Research/open-buildings-temporal/v1\")\n",
    "    buildings_filtered = buildings.filterBounds(region)\n",
    "\n",
    "    # Filter by years\n",
    "    buildings_2016 = buildings_filtered.filter(ee.Filter.calendarRange(2016, 2017, 'year'))\n",
    "    buildings_2023 = buildings_filtered.filter(ee.Filter.calendarRange(2023, 2024, 'year'))\n",
    "\n",
    "    # Export for 2016\n",
    "    task_2016 = ee.batch.Export.image.toDrive(\n",
    "        image=buildings_2016.mosaic(),\n",
    "        description=f'{city_name}_2016',\n",
    "        scale=scale,\n",
    "        region=region,\n",
    "        fileFormat='GeoTIFF'\n",
    "    )\n",
    "\n",
    "    # Export for 2023\n",
    "    task_2023 = ee.batch.Export.image.toDrive(\n",
    "        image=buildings_2023.mosaic(),\n",
    "        description=f'{city_name}_2023',\n",
    "        scale=scale,\n",
    "        region=region,\n",
    "        fileFormat='GeoTIFF'\n",
    "    )\n",
    "\n",
    "    # Start export tasks\n",
    "    task_2016.start()\n",
    "    task_2023.start()\n",
    "\n",
    "    print(f\"Export tasks for {city_name} started. Check your Google Drive after processing.\")"
   ]
  },
  {
   "cell_type": "code",
   "execution_count": 5,
   "id": "6b1ddd6c-f48d-4793-a41d-f74d756828aa",
   "metadata": {},
   "outputs": [
    {
     "name": "stdout",
     "output_type": "stream",
     "text": [
      "Export tasks for Monterrey started. Check your Google Drive after processing.\n"
     ]
    }
   ],
   "source": [
    "# usage: 纬度+经度 和google earth顺序一致\n",
    "#export_tif_to_drive(\"Abidjan\", 5.3252258, -4.019603)\n",
    "#export_tif_to_drive(\"Antananarivo\", -18.9155584, 47.5216452)\n",
    "#export_tif_to_drive(\"Yaounde\", 3.8614776, 11.5191364)\n",
    "#export_tif_to_drive(\"Lusaka\", -15.4191874, 28.3054202)\n",
    "#export_tif_to_drive(\"Buenos Aires\", -34.609504, -58.389111)\n",
    "#export_tif_to_drive(\"Hanoi\",21.0283,105.8542)\n",
    "#export_tif_to_drive(\"Medan\",3.5894,98.6739)\n",
    "#export_tif_to_drive(\"Monterrey\",25.6667,-100.3)"
   ]
  },
  {
   "cell_type": "code",
   "execution_count": 6,
   "id": "df2fc5e1-6688-4c16-86f2-82b616ce92ef",
   "metadata": {},
   "outputs": [
    {
     "name": "stdin",
     "output_type": "stream",
     "text": [
      "\n",
      "请输入要处理的城市编号范围，例如 0 9 表示处理第0到第9个城市，输入 q 退出：\n",
      " 56 57\n"
     ]
    },
    {
     "name": "stdout",
     "output_type": "stream",
     "text": [
      "\n",
      "🗂️ 即将处理城市编号 56 到 57（共 2 个）：\n",
      "\n",
      "  [56] Bangalore | lat: 12.972095, lon: 77.594172\n",
      "  [57] Ho Chi Minh City | lat: 10.778004, lon: 106.696322\n"
     ]
    },
    {
     "name": "stdin",
     "output_type": "stream",
     "text": [
      "\n",
      "是否确认开始处理？输入 y 开始，其他键取消本批处理： \n"
     ]
    },
    {
     "name": "stdout",
     "output_type": "stream",
     "text": [
      "⏸️ 取消当前批处理。\n"
     ]
    },
    {
     "name": "stdin",
     "output_type": "stream",
     "text": [
      "\n",
      "请输入要处理的城市编号范围，例如 0 9 表示处理第0到第9个城市，输入 q 退出：\n",
      " 54 54\n"
     ]
    },
    {
     "name": "stdout",
     "output_type": "stream",
     "text": [
      "\n",
      "🗂️ 即将处理城市编号 54 到 54（共 1 个）：\n",
      "\n",
      "  [54] Bangkok | lat: 13.756876, lon: 100.502114\n"
     ]
    },
    {
     "name": "stdin",
     "output_type": "stream",
     "text": [
      "\n",
      "是否确认开始处理？输入 y 开始，其他键取消本批处理： 55 55\n"
     ]
    },
    {
     "name": "stdout",
     "output_type": "stream",
     "text": [
      "⏸️ 取消当前批处理。\n"
     ]
    },
    {
     "name": "stdin",
     "output_type": "stream",
     "text": [
      "\n",
      "请输入要处理的城市编号范围，例如 0 9 表示处理第0到第9个城市，输入 q 退出：\n",
      " 55 55\n"
     ]
    },
    {
     "name": "stdout",
     "output_type": "stream",
     "text": [
      "\n",
      "🗂️ 即将处理城市编号 55 到 55（共 1 个）：\n",
      "\n",
      "  [55] Karachi | lat: 24.849182, lon: 67.002087\n"
     ]
    },
    {
     "name": "stdin",
     "output_type": "stream",
     "text": [
      "\n",
      "是否确认开始处理？输入 y 开始，其他键取消本批处理： y\n"
     ]
    },
    {
     "name": "stdout",
     "output_type": "stream",
     "text": [
      "Export tasks for Karachi started. Check your Google Drive after processing.\n",
      "\n",
      "✅ 已完成第 55 到 55 个城市的处理。\n",
      "\n"
     ]
    },
    {
     "name": "stdin",
     "output_type": "stream",
     "text": [
      "\n",
      "请输入要处理的城市编号范围，例如 0 9 表示处理第0到第9个城市，输入 q 退出：\n",
      " q\n"
     ]
    },
    {
     "name": "stdout",
     "output_type": "stream",
     "text": [
      "✅ 用户退出。\n"
     ]
    }
   ],
   "source": [
    "import pandas as pd\n",
    "df= pd.read_csv(\"CitiesDB_new.csv\")\n",
    "# 遍历城市，每10个为一组\n",
    "batch_size = 10\n",
    "cities = df[[\"Name\", \"Cy(lat)\", \"Cx(lon)\"]]\n",
    "\n",
    "# 主循环\n",
    "while True:\n",
    "    try:\n",
    "        user_input = input(\"\\n请输入要处理的城市编号范围，例如 0 9 表示处理第0到第9个城市，输入 q 退出：\\n\")\n",
    "        if user_input.strip().lower() == 'q':\n",
    "            print(\"✅ 用户退出。\")\n",
    "            break\n",
    "\n",
    "        start_idx, end_idx = map(int, user_input.strip().split())\n",
    "        if start_idx < 0 or end_idx >= len(cities) or start_idx > end_idx:\n",
    "            print(f\"❌ 范围不合法。请输入从 0 到 {len(cities) - 1} 的有效编号，且起始值 ≤ 结束值。\")\n",
    "            continue\n",
    "\n",
    "        batch = cities.iloc[start_idx:end_idx+1]\n",
    "\n",
    "        print(f\"\\n🗂️ 即将处理城市编号 {start_idx} 到 {end_idx}（共 {len(batch)} 个）：\\n\")\n",
    "        for idx, row in batch.iterrows():\n",
    "            city_name = row[\"Name\"]\n",
    "            lat = row[\"Cy(lat)\"]\n",
    "            lon = row[\"Cx(lon)\"]\n",
    "            print(f\"  [{idx}] {city_name} | lat: {lat}, lon: {lon}\")\n",
    "        \n",
    "        confirm = input(\"\\n是否确认开始处理？输入 y 开始，其他键取消本批处理：\")\n",
    "        if confirm.strip().lower() != 'y':\n",
    "            print(\"⏸️ 取消当前批处理。\")\n",
    "            continue\n",
    "\n",
    "        for idx, row in batch.iterrows():\n",
    "            city_name = row[\"Name\"]\n",
    "            lat = row[\"Cy(lat)\"]\n",
    "            lon = row[\"Cx(lon)\"]\n",
    "            export_tif_to_drive(city_name, lat, lon)\n",
    "\n",
    "        print(f\"\\n✅ 已完成第 {start_idx} 到 {end_idx} 个城市的处理。\\n\")\n",
    "\n",
    "    except Exception as e:\n",
    "        print(f\"❌ 输入错误，请输入两个整数，例如：0 9。错误信息：{e}\")"
   ]
  },
  {
   "cell_type": "code",
   "execution_count": 6,
   "id": "66187889-3d45-4192-bab3-ee72019509f1",
   "metadata": {
    "jupyter": {
     "source_hidden": true
    }
   },
   "outputs": [
    {
     "name": "stdout",
     "output_type": "stream",
     "text": [
      "The images are identical.\n"
     ]
    },
    {
     "data": {
      "text/plain": [
       "True"
      ]
     },
     "execution_count": 6,
     "metadata": {},
     "output_type": "execute_result"
    }
   ],
   "source": [
    "import rasterio\n",
    "import numpy as np\n",
    "\n",
    "def compare_tif_images(image_path1, image_path2):\n",
    "    with rasterio.open(image_path1) as src1, rasterio.open(image_path2) as src2:\n",
    "        # Read the data\n",
    "        data1 = src1.read()\n",
    "        data2 = src2.read()\n",
    "        \n",
    "        # Check if the shapes are the same (bands, height, width)\n",
    "        if data1.shape != data2.shape:\n",
    "            print(\"Images have different shapes.\")\n",
    "            return False\n",
    "\n",
    "        # Compare pixel values: if all values are equal, the images are identical\n",
    "        if np.array_equal(data1, data2):\n",
    "            print(\"The images are identical.\")\n",
    "            return True\n",
    "        else:\n",
    "            print(\"The images are different.\")\n",
    "            return False\n",
    "\n",
    "        # Optionally, compare metadata (CRS, transform, etc.)\n",
    "        if src1.meta != src2.meta:\n",
    "            print(\"Metadata is different.\")\n",
    "            return False\n",
    "        else:\n",
    "            print(\"Metadata is identical.\")\n",
    "            return True\n",
    "\n",
    "# Example usage\n",
    "image_path1 = \"Abidjan_2023.tif\"\n",
    "image_path2 = \"Abidjan_OpenBuildings_2023.tif\"\n",
    "compare_tif_images(image_path1, image_path2)\n"
   ]
  }
 ],
 "metadata": {
  "kernelspec": {
   "display_name": "Python 3 (ipykernel)",
   "language": "python",
   "name": "python3"
  },
  "language_info": {
   "codemirror_mode": {
    "name": "ipython",
    "version": 3
   },
   "file_extension": ".py",
   "mimetype": "text/x-python",
   "name": "python",
   "nbconvert_exporter": "python",
   "pygments_lexer": "ipython3",
   "version": "3.13.2"
  }
 },
 "nbformat": 4,
 "nbformat_minor": 5
}

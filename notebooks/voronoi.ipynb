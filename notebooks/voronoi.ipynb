{
 "cells": [
  {
   "cell_type": "code",
   "execution_count": 1,
   "id": "83b52b59-192e-49e8-b743-2ee0cecc937f",
   "metadata": {
    "scrolled": true
   },
   "outputs": [
    {
     "ename": "NameError",
     "evalue": "name 'main' is not defined",
     "output_type": "error",
     "traceback": [
      "\u001b[31m---------------------------------------------------------------------------\u001b[39m",
      "\u001b[31mNameError\u001b[39m                                 Traceback (most recent call last)",
      "\u001b[36mCell\u001b[39m\u001b[36m \u001b[39m\u001b[32mIn[1]\u001b[39m\u001b[32m, line 14\u001b[39m\n\u001b[32m      8\u001b[39m centers = [\n\u001b[32m      9\u001b[39m     [\u001b[32m5.322320879661272\u001b[39m, -\u001b[32m4.015285828321409\u001b[39m],  \u001b[38;5;66;03m# Example coordinates - replace with your actual points\u001b[39;00m\n\u001b[32m     10\u001b[39m     [\u001b[32m5.393796905118625\u001b[39m, -\u001b[32m4.067719423185094\u001b[39m]\n\u001b[32m     11\u001b[39m ]\n\u001b[32m     13\u001b[39m \u001b[38;5;66;03m# Generate Voronoi polygons\u001b[39;00m\n\u001b[32m---> \u001b[39m\u001b[32m14\u001b[39m voronoi_gdf = \u001b[43mmain\u001b[49m(city_name, year, centers)\n",
      "\u001b[31mNameError\u001b[39m: name 'main' is not defined"
     ]
    }
   ],
   "source": [
    "# Example usage\n",
    "if __name__ == \"__main__\":\n",
    "    # Example city and year\n",
    "    city_name = \"Abidjan\"\n",
    "    year = 2016\n",
    "    \n",
    "    # Example center points (replace with your actual center coordinates)\n",
    "    centers = [\n",
    "        [5.322320879661272, -4.015285828321409],  # Example coordinates - replace with your actual points\n",
    "        [5.393796905118625, -4.067719423185094]\n",
    "    ]\n",
    "    \n",
    "    # Generate Voronoi polygons\n",
    "    voronoi_gdf = main(city_name, year, centers)"
   ]
  }
 ],
 "metadata": {
  "kernelspec": {
   "display_name": "Python 3 (ipykernel)",
   "language": "python",
   "name": "python3"
  },
  "language_info": {
   "codemirror_mode": {
    "name": "ipython",
    "version": 3
   },
   "file_extension": ".py",
   "mimetype": "text/x-python",
   "name": "python",
   "nbconvert_exporter": "python",
   "pygments_lexer": "ipython3",
   "version": "3.13.2"
  }
 },
 "nbformat": 4,
 "nbformat_minor": 5
}
